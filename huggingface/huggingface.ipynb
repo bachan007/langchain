{
 "cells": [
  {
   "cell_type": "code",
   "execution_count": 5,
   "metadata": {},
   "outputs": [],
   "source": [
    "from langchain_community.document_loaders import PyPDFLoader, PyPDFDirectoryLoader\n",
    "from langchain.text_splitter import RecursiveCharacterTextSplitter\n",
    "from langchain_community.vectorstores import FAISS\n",
    "\n",
    "from langchain_community.embeddings import HuggingFaceBgeEmbeddings\n",
    "from langchain.prompts import PromptTemplate\n",
    "from langchain.chains import RetrievalQA\n",
    "\n",
    "import numpy as np"
   ]
  },
  {
   "cell_type": "code",
   "execution_count": 2,
   "metadata": {},
   "outputs": [],
   "source": [
    "loader = PyPDFDirectoryLoader('./docs')\n",
    "documents = loader.load()\n",
    "\n",
    "text_splitter = RecursiveCharacterTextSplitter(chunk_size=1000,chunk_overlap=200)\n",
    "final_documents = text_splitter.split_documents(documents)"
   ]
  },
  {
   "cell_type": "code",
   "execution_count": 3,
   "metadata": {},
   "outputs": [
    {
     "data": {
      "text/plain": [
       "326"
      ]
     },
     "execution_count": 3,
     "metadata": {},
     "output_type": "execute_result"
    }
   ],
   "source": [
    "len(final_documents)"
   ]
  },
  {
   "cell_type": "code",
   "execution_count": 4,
   "metadata": {},
   "outputs": [
    {
     "name": "stderr",
     "output_type": "stream",
     "text": [
      "/home/bachan/Desktop/temp_dev/langchain/langchain/lib/python3.10/site-packages/tqdm/auto.py:21: TqdmWarning: IProgress not found. Please update jupyter and ipywidgets. See https://ipywidgets.readthedocs.io/en/stable/user_install.html\n",
      "  from .autonotebook import tqdm as notebook_tqdm\n"
     ]
    }
   ],
   "source": [
    "hgface_embeddings = HuggingFaceBgeEmbeddings(\n",
    "    model_name='BAAI/bge-small-en-v1.5',\n",
    "    model_kwargs={'device':'cpu'},\n",
    "    encode_kwargs={'normalize_embeddings':True}\n",
    ")"
   ]
  },
  {
   "cell_type": "code",
   "execution_count": 10,
   "metadata": {},
   "outputs": [
    {
     "data": {
      "text/plain": [
       "'easily? Those customers might be internal or external – the key is to think beyond simply offering data \\nsources, and expecting users to adapt or compromise the way they work to use it.\\nUnfortunately, there’s no silver bullet here. It takes time to understand your customers and their goals, \\nand involves real-world testing and constant refinement. And once you’ve solved that for one group of \\ncustomers, how do you scale and expand this? Can you make those products reusable, satisfying the \\nneeds of a broader range of customers?\\nAt Thoughtworks, we have adapted the Double-Diamond design process model to make sure that we \\nbuild the right thing and build it right . This starts with identifying what a customer needs. We use a \\nstructured discovery and inception process to uncover these requirements for any new data product. \\nWe then apply a set of well-understood practices and tools that are known to deliver high-quality \\nsoftware and data.'"
      ]
     },
     "execution_count": 10,
     "metadata": {},
     "output_type": "execute_result"
    }
   ],
   "source": [
    "final_documents[10].page_content"
   ]
  },
  {
   "cell_type": "code",
   "execution_count": 13,
   "metadata": {},
   "outputs": [
    {
     "data": {
      "text/plain": [
       "384"
      ]
     },
     "execution_count": 13,
     "metadata": {},
     "output_type": "execute_result"
    }
   ],
   "source": [
    "len(np.array(hgface_embeddings.embed_query(final_documents[10].page_content)))"
   ]
  },
  {
   "cell_type": "code",
   "execution_count": 14,
   "metadata": {},
   "outputs": [],
   "source": [
    "vector_store = FAISS.from_documents(final_documents[:120],hgface_embeddings)"
   ]
  },
  {
   "cell_type": "code",
   "execution_count": 15,
   "metadata": {},
   "outputs": [],
   "source": [
    "query = 'what are the skills for data engineering?'"
   ]
  },
  {
   "cell_type": "code",
   "execution_count": 16,
   "metadata": {},
   "outputs": [],
   "source": [
    "relevant_document = vector_store.similarity_search(query)"
   ]
  },
  {
   "cell_type": "code",
   "execution_count": 24,
   "metadata": {},
   "outputs": [
    {
     "data": {
      "text/plain": [
       "4"
      ]
     },
     "execution_count": 24,
     "metadata": {},
     "output_type": "execute_result"
    }
   ],
   "source": [
    "len(relevant_document)"
   ]
  },
  {
   "cell_type": "code",
   "execution_count": 25,
   "metadata": {},
   "outputs": [
    {
     "name": "stdout",
     "output_type": "stream",
     "text": [
      "Contents\n",
      "I Introduction 10\n",
      "1 How To Use This Cookbook 11\n",
      "2 Data Engineer vs Data Scientists 12\n",
      "2.1 Data Scientist . . . . . . . . . . . . . . . . . . . . . . . . . . . . . . . . . 12\n",
      "2.2 Data Engineer . . . . . . . . . . . . . . . . . . . . . . . . . . . . . . . . . 13\n",
      "2.3 Who Companies Need . . . . . . . . . . . . . . . . . . . . . . . . . . . . 14\n",
      "II Basic Data Engineering Skills 16\n",
      "3 Learn To Code 17\n",
      "4 Get Familiar With Git 18\n",
      "5 Agile Development – available 19\n",
      "5.1 Why is agile so important? . . . . . . . . . . . . . . . . . . . . . . . . . . 19\n",
      "5.2 Agile rules I learned over the years – available . . . . . . . . . . . . . . . 20\n",
      "5.2.1 Is the method making a diﬀerence? . . . . . . . . . . . . . . . . . 20\n",
      "5.2.2 The problem with outsourcing . . . . . . . . . . . . . . . . . . . . 20\n",
      "5.2.3 Knowledge is king: A lesson from Elon Musk . . . . . . . . . . . . 21\n",
      "5.2.4 How you really can be agile . . . . . . . . . . . . . . . . . . . . . 21\n",
      "Modern data \n",
      "engineering \n",
      "playbook\n",
      "Modern data engineering playbook\n",
      "© Thoughtworks, Inc. All Rights Reserved.15Data is a team sport: building an effective data team\n",
      "Elements of a winning data team\n",
      "Developing effective data products requires a specialist team with a set of multidisciplinary skills, \n",
      "experience and knowledge, including data engineers, data scientists, data product managers, data UX \n",
      "researchers and analytics engineers.\n",
      "One of the most effective ways to build your data team is to develop roles that focus on specific \n",
      "aspects of the product’s infrastructure, development and lifecycle. Each role brings a different set of \n",
      "skills, strengths, and approaches needed to create value from data. The nature of the data product \n",
      "you want to build will dictate the roles you’ll need.\n",
      "It’s important to note that a role is distinct from an individual who plays a part in your team. In fact, \n",
      "some people may fall under multiple roles. You should consider the roles needed to build the product,\n",
      "will help prioritize which insight should be built first based on the return of investment of the \n",
      "feature and the effort involved.\n",
      "• Business analyst:  they play a vital role in understanding and aligning the value of your data \n",
      "product with the needs of customers and the wider business.\n",
      "• Data engineer:  they build the pipelines that source data from several internal systems, and \n",
      "transform and aggregate the data into a form that supports credit decision making.\n",
      "• Infrastructure engineer:  they build reusable and scalable infrastructure around the data product \n",
      "to facilitate reproducibility, continuous integration/deployment and automate as much as possible.\n",
      "• Backend engineer:  they build business logic in the form of data APIs to make data integrations \n",
      "with UI, other products and visualisation tools easy.\n",
      "• Quality assurance:  accountable for maintaining data and product quality . This role is essential to \n",
      "build trust with the customer.\n"
     ]
    }
   ],
   "source": [
    "for page_num in range(len(relevant_document)):\n",
    "    print(relevant_document[page_num].page_content)"
   ]
  },
  {
   "cell_type": "code",
   "execution_count": 26,
   "metadata": {},
   "outputs": [],
   "source": [
    "retriever = vector_store.as_retriever(search_type='similarity',search_kwargs={'k':3})"
   ]
  },
  {
   "cell_type": "code",
   "execution_count": 32,
   "metadata": {},
   "outputs": [],
   "source": [
    "import os\n",
    "hf_api_key = os.environ['HUGGING_FACE_API_KEY']"
   ]
  },
  {
   "cell_type": "code",
   "execution_count": null,
   "metadata": {},
   "outputs": [],
   "source": [
    "from langchain_community.llms import HuggingFaceHub\n",
    "\n",
    "hf = HuggingFaceHub(\n",
    "    repo_id='meta-llama/Meta-Llama-3-8B',\n",
    "    model_kwargs={'temperature':0.1,'max_length':500},\n",
    "    huggingfacehub_api_token=hf_api_key\n",
    ")"
   ]
  },
  {
   "cell_type": "code",
   "execution_count": null,
   "metadata": {},
   "outputs": [],
   "source": [
    "query = 'what skills are needed to a data engineer?'\n",
    "hf.invoke(query)"
   ]
  },
  {
   "cell_type": "code",
   "execution_count": null,
   "metadata": {},
   "outputs": [],
   "source": [
    "from langchain_community.llms.huggingface_pipeline import HuggingFacePipeline\n",
    "\n",
    "hf = HuggingFacePipeline.from_model_id(\n",
    "    model_id = 'mistralai/Mistral-7B-v0.1'\n",
    "    \n",
    ")"
   ]
  }
 ],
 "metadata": {
  "kernelspec": {
   "display_name": "langchain",
   "language": "python",
   "name": "python3"
  },
  "language_info": {
   "codemirror_mode": {
    "name": "ipython",
    "version": 3
   },
   "file_extension": ".py",
   "mimetype": "text/x-python",
   "name": "python",
   "nbconvert_exporter": "python",
   "pygments_lexer": "ipython3",
   "version": "3.10.12"
  }
 },
 "nbformat": 4,
 "nbformat_minor": 2
}
