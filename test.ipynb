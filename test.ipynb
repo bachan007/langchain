{
 "cells": [
  {
   "cell_type": "code",
   "execution_count": 7,
   "metadata": {},
   "outputs": [],
   "source": [
    "from langchain_core.output_parsers import StrOutputParser\n",
    "from langchain_core.prompts import ChatPromptTemplate\n",
    "from langchain_community.llms import Ollama"
   ]
  },
  {
   "cell_type": "code",
   "execution_count": 8,
   "metadata": {},
   "outputs": [],
   "source": [
    "prompt = ChatPromptTemplate.from_messages(\n",
    "    [\n",
    "        ('system','You are an expert in providing the financial advice.'),\n",
    "        ('user',\"question:{question}\")\n",
    "    ]\n",
    ")"
   ]
  },
  {
   "cell_type": "code",
   "execution_count": 9,
   "metadata": {},
   "outputs": [],
   "source": [
    "model = Ollama(model='llama2')"
   ]
  },
  {
   "cell_type": "code",
   "execution_count": 10,
   "metadata": {},
   "outputs": [],
   "source": [
    "str_parser = StrOutputParser()"
   ]
  },
  {
   "cell_type": "code",
   "execution_count": 11,
   "metadata": {},
   "outputs": [],
   "source": [
    "chain = prompt|model|str_parser"
   ]
  },
  {
   "cell_type": "code",
   "execution_count": 12,
   "metadata": {},
   "outputs": [
    {
     "name": "stdout",
     "output_type": "stream",
     "text": [
      "As an AI language model, I am not an expert in economics or financial matters. However, I can provide a general overview of how the Indian economy functions. The Indian economy is a mixed economy that combines elements of both market-based and state-led economic systems. Here are some key aspects of how the Indian economy works:\n",
      "\n",
      "1. Government Policies: The government plays a significant role in shaping the Indian economy through various policies, including fiscal and monetary policies. The government sets budgetary targets, implements tax policies, and regulates different sectors such as banking, insurance, and telecommunications.\n",
      "2. Private Sector: The private sector is a critical component of the Indian economy, with many large and small businesses operating in various industries. The private sector is responsible for generating most of the country's economic growth and employment opportunities.\n",
      "3. Agriculture: Agriculture is a significant sector in India, accounting for around 17% of the country's GDP. India is one of the world's largest producers of food grains like rice, wheat, and corn. However, the agricultural sector faces challenges such as land holdings, water scarcity, and climate change.\n",
      "4. Service Sector: The service sector is another vital part of the Indian economy, contributing around 50% of the country's GDP. This includes industries like finance, real estate, transportation, and communication.\n",
      "5. Foreign Trade: India's foreign trade is crucial for its economic growth, with the country being a significant player in global trade. India's main exports include textiles, gems and jewelry, and engineering goods, while it imports oil, petroleum products, and electronic goods.\n",
      "6. Macroeconomic Indicators: The Indian economy is monitored by various macroeconomic indicators such as GDP growth rate, inflation rate, exchange rate, and interest rates. These indicators help the government and other stakeholders evaluate the overall health of the economy.\n",
      "7. Public-Private Partnerships: India has a significant public-private partnership (PPP) model, where both the government and private sector work together to execute various projects such as infrastructure development, social welfare programs, and industrial projects.\n",
      "8. Regulatory Framework: The Indian economy is governed by a complex regulatory framework that includes various central and state-level agencies. These agencies are responsible for regulating different sectors of the economy, including banking, insurance, and telecommunications.\n",
      "9. Challenges: Despite its growth and potential, India faces several challenges that could impact its economic development. These include issues such as corruption, bureaucratic red tape, inadequate infrastructure, and a rapidly growing population.\n",
      "10. Future Prospects: The Indian economy is expected to continue growing in the future, driven by factors such as demographic dividends, technological advancements, and increasing global integration. However, the government and other stakeholders must address the challenges mentioned above to ensure sustainable and inclusive economic growth.\n",
      "\n",
      "In conclusion, the Indian economy is a complex system that involves various components and stakeholders working together to generate economic growth and prosperity. While there are challenges that need to be addressed, India has the potential to continue growing and developing its economy in the future with careful planning and policy implementation.\n"
     ]
    }
   ],
   "source": [
    "print(chain.invoke({\"question\":\"how the indian economy works?\"}))"
   ]
  }
 ],
 "metadata": {
  "kernelspec": {
   "display_name": "langchain",
   "language": "python",
   "name": "python3"
  },
  "language_info": {
   "codemirror_mode": {
    "name": "ipython",
    "version": 3
   },
   "file_extension": ".py",
   "mimetype": "text/x-python",
   "name": "python",
   "nbconvert_exporter": "python",
   "pygments_lexer": "ipython3",
   "version": "3.10.12"
  }
 },
 "nbformat": 4,
 "nbformat_minor": 2
}
